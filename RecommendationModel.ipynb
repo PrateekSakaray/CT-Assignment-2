{
 "cells": [
  {
   "cell_type": "code",
   "execution_count": 26,
   "metadata": {},
   "outputs": [],
   "source": [
    "import numpy as np\n",
    "import pandas as pd"
   ]
  },
  {
   "cell_type": "code",
   "execution_count": 2,
   "metadata": {},
   "outputs": [],
   "source": [
    "airline_rating=pd.read_csv(\"C:/Users/hp/Desktop/DCU/CLOUD TECHNOLOGIES/ASGNS/ASGN2/DATASET/Preprocessed/cleanedairlines_4dec.csv\")"
   ]
  },
  {
   "cell_type": "code",
   "execution_count": 3,
   "metadata": {},
   "outputs": [
    {
     "data": {
      "text/html": [
       "<div>\n",
       "<style scoped>\n",
       "    .dataframe tbody tr th:only-of-type {\n",
       "        vertical-align: middle;\n",
       "    }\n",
       "\n",
       "    .dataframe tbody tr th {\n",
       "        vertical-align: top;\n",
       "    }\n",
       "\n",
       "    .dataframe thead th {\n",
       "        text-align: right;\n",
       "    }\n",
       "</style>\n",
       "<table border=\"1\" class=\"dataframe\">\n",
       "  <thead>\n",
       "    <tr style=\"text-align: right;\">\n",
       "      <th></th>\n",
       "      <th>airline_name</th>\n",
       "      <th>date</th>\n",
       "      <th>cabin_flown</th>\n",
       "      <th>overall_rating</th>\n",
       "      <th>recommended</th>\n",
       "    </tr>\n",
       "  </thead>\n",
       "  <tbody>\n",
       "    <tr>\n",
       "      <th>0</th>\n",
       "      <td>adria-airways</td>\n",
       "      <td>10/04/2015</td>\n",
       "      <td>Economy</td>\n",
       "      <td>7</td>\n",
       "      <td>1</td>\n",
       "    </tr>\n",
       "    <tr>\n",
       "      <th>1</th>\n",
       "      <td>adria-airways</td>\n",
       "      <td>05/01/2015</td>\n",
       "      <td>Business Class</td>\n",
       "      <td>10</td>\n",
       "      <td>1</td>\n",
       "    </tr>\n",
       "    <tr>\n",
       "      <th>2</th>\n",
       "      <td>adria-airways</td>\n",
       "      <td>14/09/2014</td>\n",
       "      <td>Economy</td>\n",
       "      <td>9</td>\n",
       "      <td>1</td>\n",
       "    </tr>\n",
       "    <tr>\n",
       "      <th>3</th>\n",
       "      <td>adria-airways</td>\n",
       "      <td>06/09/2014</td>\n",
       "      <td>Business Class</td>\n",
       "      <td>8</td>\n",
       "      <td>1</td>\n",
       "    </tr>\n",
       "    <tr>\n",
       "      <th>4</th>\n",
       "      <td>adria-airways</td>\n",
       "      <td>16/06/2014</td>\n",
       "      <td>Economy</td>\n",
       "      <td>4</td>\n",
       "      <td>0</td>\n",
       "    </tr>\n",
       "  </tbody>\n",
       "</table>\n",
       "</div>"
      ],
      "text/plain": [
       "    airline_name        date     cabin_flown  overall_rating  recommended\n",
       "0  adria-airways  10/04/2015         Economy               7            1\n",
       "1  adria-airways  05/01/2015  Business Class              10            1\n",
       "2  adria-airways  14/09/2014         Economy               9            1\n",
       "3  adria-airways  06/09/2014  Business Class               8            1\n",
       "4  adria-airways  16/06/2014         Economy               4            0"
      ]
     },
     "execution_count": 3,
     "metadata": {},
     "output_type": "execute_result"
    }
   ],
   "source": [
    "airline_rating.head()"
   ]
  },
  {
   "cell_type": "code",
   "execution_count": 4,
   "metadata": {},
   "outputs": [
    {
     "data": {
      "text/plain": [
       "airline_name\n",
       "adria-airways                7.290323\n",
       "aegean-airlines              7.462185\n",
       "aer-lingus                   6.711538\n",
       "aerocaribbean                8.000000\n",
       "aeroflot-russian-airlines    6.411290\n",
       "Name: overall_rating, dtype: float64"
      ]
     },
     "execution_count": 4,
     "metadata": {},
     "output_type": "execute_result"
    }
   ],
   "source": [
    "airline_rating.groupby('airline_name')['overall_rating'].mean().head()"
   ]
  },
  {
   "cell_type": "code",
   "execution_count": 5,
   "metadata": {},
   "outputs": [
    {
     "data": {
      "text/plain": [
       "airline_name\n",
       "british-airways     899\n",
       "united-airlines     839\n",
       "air-canada-rouge    715\n",
       "emirates            691\n",
       "ryanair             658\n",
       "Name: overall_rating, dtype: int64"
      ]
     },
     "execution_count": 5,
     "metadata": {},
     "output_type": "execute_result"
    }
   ],
   "source": [
    "airline_rating.groupby('airline_name')['overall_rating'].count().sort_values(ascending=False).head()"
   ]
  },
  {
   "cell_type": "code",
   "execution_count": 7,
   "metadata": {},
   "outputs": [],
   "source": [
    "rating_mean_count=pd.DataFrame(airline_rating.groupby('airline_name')['overall_rating'].mean())"
   ]
  },
  {
   "cell_type": "code",
   "execution_count": 8,
   "metadata": {},
   "outputs": [],
   "source": [
    "rating_mean_count['rating_counts']=pd.DataFrame(airline_rating.groupby('airline_name')['overall_rating'].count())"
   ]
  },
  {
   "cell_type": "code",
   "execution_count": 9,
   "metadata": {},
   "outputs": [
    {
     "data": {
      "text/html": [
       "<div>\n",
       "<style scoped>\n",
       "    .dataframe tbody tr th:only-of-type {\n",
       "        vertical-align: middle;\n",
       "    }\n",
       "\n",
       "    .dataframe tbody tr th {\n",
       "        vertical-align: top;\n",
       "    }\n",
       "\n",
       "    .dataframe thead th {\n",
       "        text-align: right;\n",
       "    }\n",
       "</style>\n",
       "<table border=\"1\" class=\"dataframe\">\n",
       "  <thead>\n",
       "    <tr style=\"text-align: right;\">\n",
       "      <th></th>\n",
       "      <th>overall_rating</th>\n",
       "      <th>rating_counts</th>\n",
       "    </tr>\n",
       "    <tr>\n",
       "      <th>airline_name</th>\n",
       "      <th></th>\n",
       "      <th></th>\n",
       "    </tr>\n",
       "  </thead>\n",
       "  <tbody>\n",
       "    <tr>\n",
       "      <th>adria-airways</th>\n",
       "      <td>7.290323</td>\n",
       "      <td>31</td>\n",
       "    </tr>\n",
       "    <tr>\n",
       "      <th>aegean-airlines</th>\n",
       "      <td>7.462185</td>\n",
       "      <td>238</td>\n",
       "    </tr>\n",
       "    <tr>\n",
       "      <th>aer-lingus</th>\n",
       "      <td>6.711538</td>\n",
       "      <td>416</td>\n",
       "    </tr>\n",
       "    <tr>\n",
       "      <th>aerocaribbean</th>\n",
       "      <td>8.000000</td>\n",
       "      <td>1</td>\n",
       "    </tr>\n",
       "    <tr>\n",
       "      <th>aeroflot-russian-airlines</th>\n",
       "      <td>6.411290</td>\n",
       "      <td>248</td>\n",
       "    </tr>\n",
       "  </tbody>\n",
       "</table>\n",
       "</div>"
      ],
      "text/plain": [
       "                           overall_rating  rating_counts\n",
       "airline_name                                            \n",
       "adria-airways                    7.290323             31\n",
       "aegean-airlines                  7.462185            238\n",
       "aer-lingus                       6.711538            416\n",
       "aerocaribbean                    8.000000              1\n",
       "aeroflot-russian-airlines        6.411290            248"
      ]
     },
     "execution_count": 9,
     "metadata": {},
     "output_type": "execute_result"
    }
   ],
   "source": [
    "rating_mean_count.head()"
   ]
  },
  {
   "cell_type": "code",
   "execution_count": 10,
   "metadata": {},
   "outputs": [],
   "source": [
    "import matplotlib.pyplot as plt\n",
    "import seaborn as sns\n",
    "sns.set_style('dark')\n",
    "%matplotlib inline"
   ]
  },
  {
   "cell_type": "code",
   "execution_count": 11,
   "metadata": {},
   "outputs": [
    {
     "data": {
      "text/plain": [
       "<matplotlib.axes._subplots.AxesSubplot at 0x28fc6608320>"
      ]
     },
     "execution_count": 11,
     "metadata": {},
     "output_type": "execute_result"
    },
    {
     "data": {
      "image/png": "[encoded data removed]",
      "text/plain": [
       "<Figure size 504x432 with 1 Axes>"
      ]
     },
     "metadata": {
      "needs_background": "light"
     },
     "output_type": "display_data"
    }
   ],
   "source": [
    "plt.figure(figsize=(7,6))\n",
    "plt.rcParams['patch.force_edgecolor'] = True\n",
    "rating_mean_count['rating_counts'].hist(bins=10)"
   ]
  },
  {
   "cell_type": "code",
   "execution_count": 12,
   "metadata": {},
   "outputs": [
    {
     "data": {
      "text/plain": [
       "<matplotlib.axes._subplots.AxesSubplot at 0x28fc6909828>"
      ]
     },
     "execution_count": 12,
     "metadata": {},
     "output_type": "execute_result"
    },
    {
     "data": {
      "image/png": "[encoded data removed]",
      "text/plain": [
       "<Figure size 576x432 with 1 Axes>"
      ]
     },
     "metadata": {
      "needs_background": "light"
     },
     "output_type": "display_data"
    }
   ],
   "source": [
    "plt.figure(figsize=(8,6))\n",
    "plt.rcParams['patch.force_edgecolor'] = True\n",
    "rating_mean_count['overall_rating'].hist(bins=50)"
   ]
  },
  {
   "cell_type": "code",
   "execution_count": 13,
   "metadata": {},
   "outputs": [
    {
     "data": {
      "text/plain": [
       "<seaborn.axisgrid.JointGrid at 0x28fc409c2e8>"
      ]
     },
     "execution_count": 13,
     "metadata": {},
     "output_type": "execute_result"
    },
    {
     "data": {
      "text/plain": [
       "<Figure size 576x432 with 0 Axes>"
      ]
     },
     "metadata": {},
     "output_type": "display_data"
    },
    {
     "data": {
      "image/png": "[encoded data removed]",
      "text/plain": [
       "<Figure size 432x432 with 3 Axes>"
      ]
     },
     "metadata": {
      "needs_background": "light"
     },
     "output_type": "display_data"
    }
   ],
   "source": [
    "plt.figure(figsize=(8,6))\n",
    "plt.rcParams['patch.force_edgecolor'] = True\n",
    "sns.jointplot(x='overall_rating', y='rating_counts', data=rating_mean_count, alpha=0.4)"
   ]
  },
  {
   "cell_type": "code",
   "execution_count": 14,
   "metadata": {},
   "outputs": [],
   "source": [
    "user_airline_rating=airline_rating.pivot_table(index='cabin_flown',columns='airline_name', values='overall_rating')"
   ]
  },
  {
   "cell_type": "code",
   "execution_count": 15,
   "metadata": {},
   "outputs": [
    {
     "data": {
      "text/html": [
       "<div>\n",
       "<style scoped>\n",
       "    .dataframe tbody tr th:only-of-type {\n",
       "        vertical-align: middle;\n",
       "    }\n",
       "\n",
       "    .dataframe tbody tr th {\n",
       "        vertical-align: top;\n",
       "    }\n",
       "\n",
       "    .dataframe thead th {\n",
       "        text-align: right;\n",
       "    }\n",
       "</style>\n",
       "<table border=\"1\" class=\"dataframe\">\n",
       "  <thead>\n",
       "    <tr style=\"text-align: right;\">\n",
       "      <th>airline_name</th>\n",
       "      <th>adria-airways</th>\n",
       "      <th>aegean-airlines</th>\n",
       "      <th>aer-lingus</th>\n",
       "      <th>aerocaribbean</th>\n",
       "      <th>aeroflot-russian-airlines</th>\n",
       "      <th>aerogal-aerolineas-galapagos</th>\n",
       "      <th>aerolineas-argentinas</th>\n",
       "      <th>aeromexico</th>\n",
       "      <th>aerosur</th>\n",
       "      <th>afriqiyah-airways</th>\n",
       "      <th>...</th>\n",
       "      <th>vueling-airlines</th>\n",
       "      <th>westjet</th>\n",
       "      <th>wideroe</th>\n",
       "      <th>wizz-air</th>\n",
       "      <th>wow-air</th>\n",
       "      <th>xiamen-airlines</th>\n",
       "      <th>xl-airways-france</th>\n",
       "      <th>yakutia-airlines</th>\n",
       "      <th>yangon-airways</th>\n",
       "      <th>yemenia</th>\n",
       "    </tr>\n",
       "    <tr>\n",
       "      <th>cabin_flown</th>\n",
       "      <th></th>\n",
       "      <th></th>\n",
       "      <th></th>\n",
       "      <th></th>\n",
       "      <th></th>\n",
       "      <th></th>\n",
       "      <th></th>\n",
       "      <th></th>\n",
       "      <th></th>\n",
       "      <th></th>\n",
       "      <th></th>\n",
       "      <th></th>\n",
       "      <th></th>\n",
       "      <th></th>\n",
       "      <th></th>\n",
       "      <th></th>\n",
       "      <th></th>\n",
       "      <th></th>\n",
       "      <th></th>\n",
       "      <th></th>\n",
       "      <th></th>\n",
       "    </tr>\n",
       "  </thead>\n",
       "  <tbody>\n",
       "    <tr>\n",
       "      <th>Business Class</th>\n",
       "      <td>8.428571</td>\n",
       "      <td>7.346154</td>\n",
       "      <td>8.111111</td>\n",
       "      <td>NaN</td>\n",
       "      <td>7.647059</td>\n",
       "      <td>6.666667</td>\n",
       "      <td>4.920000</td>\n",
       "      <td>4.968750</td>\n",
       "      <td>NaN</td>\n",
       "      <td>7.000</td>\n",
       "      <td>...</td>\n",
       "      <td>4.333333</td>\n",
       "      <td>NaN</td>\n",
       "      <td>NaN</td>\n",
       "      <td>NaN</td>\n",
       "      <td>NaN</td>\n",
       "      <td>7.000</td>\n",
       "      <td>NaN</td>\n",
       "      <td>NaN</td>\n",
       "      <td>NaN</td>\n",
       "      <td>NaN</td>\n",
       "    </tr>\n",
       "    <tr>\n",
       "      <th>Economy</th>\n",
       "      <td>6.958333</td>\n",
       "      <td>7.476415</td>\n",
       "      <td>6.541779</td>\n",
       "      <td>8.0</td>\n",
       "      <td>6.180095</td>\n",
       "      <td>5.800000</td>\n",
       "      <td>4.215278</td>\n",
       "      <td>5.138614</td>\n",
       "      <td>4.0</td>\n",
       "      <td>5.625</td>\n",
       "      <td>...</td>\n",
       "      <td>4.030201</td>\n",
       "      <td>4.623188</td>\n",
       "      <td>9.5</td>\n",
       "      <td>4.761905</td>\n",
       "      <td>7.258065</td>\n",
       "      <td>6.875</td>\n",
       "      <td>4.967742</td>\n",
       "      <td>6.0</td>\n",
       "      <td>8.5</td>\n",
       "      <td>5.222222</td>\n",
       "    </tr>\n",
       "    <tr>\n",
       "      <th>First Class</th>\n",
       "      <td>NaN</td>\n",
       "      <td>NaN</td>\n",
       "      <td>NaN</td>\n",
       "      <td>NaN</td>\n",
       "      <td>NaN</td>\n",
       "      <td>NaN</td>\n",
       "      <td>NaN</td>\n",
       "      <td>1.000000</td>\n",
       "      <td>NaN</td>\n",
       "      <td>NaN</td>\n",
       "      <td>...</td>\n",
       "      <td>3.000000</td>\n",
       "      <td>7.000000</td>\n",
       "      <td>NaN</td>\n",
       "      <td>NaN</td>\n",
       "      <td>NaN</td>\n",
       "      <td>NaN</td>\n",
       "      <td>NaN</td>\n",
       "      <td>NaN</td>\n",
       "      <td>NaN</td>\n",
       "      <td>6.000000</td>\n",
       "    </tr>\n",
       "    <tr>\n",
       "      <th>Premium Economy</th>\n",
       "      <td>NaN</td>\n",
       "      <td>NaN</td>\n",
       "      <td>NaN</td>\n",
       "      <td>NaN</td>\n",
       "      <td>8.666667</td>\n",
       "      <td>NaN</td>\n",
       "      <td>6.000000</td>\n",
       "      <td>9.500000</td>\n",
       "      <td>NaN</td>\n",
       "      <td>NaN</td>\n",
       "      <td>...</td>\n",
       "      <td>1.000000</td>\n",
       "      <td>8.000000</td>\n",
       "      <td>NaN</td>\n",
       "      <td>NaN</td>\n",
       "      <td>NaN</td>\n",
       "      <td>NaN</td>\n",
       "      <td>7.333333</td>\n",
       "      <td>NaN</td>\n",
       "      <td>NaN</td>\n",
       "      <td>NaN</td>\n",
       "    </tr>\n",
       "  </tbody>\n",
       "</table>\n",
       "<p>4 rows × 351 columns</p>\n",
       "</div>"
      ],
      "text/plain": [
       "airline_name     adria-airways  aegean-airlines  aer-lingus  aerocaribbean  \\\n",
       "cabin_flown                                                                  \n",
       "Business Class        8.428571         7.346154    8.111111            NaN   \n",
       "Economy               6.958333         7.476415    6.541779            8.0   \n",
       "First Class                NaN              NaN         NaN            NaN   \n",
       "Premium Economy            NaN              NaN         NaN            NaN   \n",
       "\n",
       "airline_name     aeroflot-russian-airlines  aerogal-aerolineas-galapagos  \\\n",
       "cabin_flown                                                                \n",
       "Business Class                    7.647059                      6.666667   \n",
       "Economy                           6.180095                      5.800000   \n",
       "First Class                            NaN                           NaN   \n",
       "Premium Economy                   8.666667                           NaN   \n",
       "\n",
       "airline_name     aerolineas-argentinas  aeromexico  aerosur  \\\n",
       "cabin_flown                                                   \n",
       "Business Class                4.920000    4.968750      NaN   \n",
       "Economy                       4.215278    5.138614      4.0   \n",
       "First Class                        NaN    1.000000      NaN   \n",
       "Premium Economy               6.000000    9.500000      NaN   \n",
       "\n",
       "airline_name     afriqiyah-airways  ...  vueling-airlines   westjet  wideroe  \\\n",
       "cabin_flown                         ...                                        \n",
       "Business Class               7.000  ...          4.333333       NaN      NaN   \n",
       "Economy                      5.625  ...          4.030201  4.623188      9.5   \n",
       "First Class                    NaN  ...          3.000000  7.000000      NaN   \n",
       "Premium Economy                NaN  ...          1.000000  8.000000      NaN   \n",
       "\n",
       "airline_name     wizz-air   wow-air  xiamen-airlines  xl-airways-france  \\\n",
       "cabin_flown                                                               \n",
       "Business Class        NaN       NaN            7.000                NaN   \n",
       "Economy          4.761905  7.258065            6.875           4.967742   \n",
       "First Class           NaN       NaN              NaN                NaN   \n",
       "Premium Economy       NaN       NaN              NaN           7.333333   \n",
       "\n",
       "airline_name     yakutia-airlines  yangon-airways   yemenia  \n",
       "cabin_flown                                                  \n",
       "Business Class                NaN             NaN       NaN  \n",
       "Economy                       6.0             8.5  5.222222  \n",
       "First Class                   NaN             NaN  6.000000  \n",
       "Premium Economy               NaN             NaN       NaN  \n",
       "\n",
       "[4 rows x 351 columns]"
      ]
     },
     "execution_count": 15,
     "metadata": {},
     "output_type": "execute_result"
    }
   ],
   "source": [
    "user_airline_rating"
   ]
  },
  {
   "cell_type": "code",
   "execution_count": 16,
   "metadata": {},
   "outputs": [],
   "source": [
    "british_rating=user_airline_rating['british-airways']"
   ]
  },
  {
   "cell_type": "code",
   "execution_count": 17,
   "metadata": {},
   "outputs": [
    {
     "data": {
      "text/plain": [
       "cabin_flown\n",
       "Business Class     5.925501\n",
       "Economy            5.614796\n",
       "First Class        6.841270\n",
       "Premium Economy    5.947368\n",
       "Name: british-airways, dtype: float64"
      ]
     },
     "execution_count": 17,
     "metadata": {},
     "output_type": "execute_result"
    }
   ],
   "source": [
    "british_rating.head()"
   ]
  },
  {
   "cell_type": "code",
   "execution_count": 20,
   "metadata": {},
   "outputs": [],
   "source": [
    "airlines_like_british=user_airline_rating.corrwith(british_rating)"
   ]
  },
  {
   "cell_type": "code",
   "execution_count": 21,
   "metadata": {},
   "outputs": [
    {
     "data": {
      "text/html": [
       "<div>\n",
       "<style scoped>\n",
       "    .dataframe tbody tr th:only-of-type {\n",
       "        vertical-align: middle;\n",
       "    }\n",
       "\n",
       "    .dataframe tbody tr th {\n",
       "        vertical-align: top;\n",
       "    }\n",
       "\n",
       "    .dataframe thead th {\n",
       "        text-align: right;\n",
       "    }\n",
       "</style>\n",
       "<table border=\"1\" class=\"dataframe\">\n",
       "  <thead>\n",
       "    <tr style=\"text-align: right;\">\n",
       "      <th></th>\n",
       "      <th>Correlation</th>\n",
       "    </tr>\n",
       "    <tr>\n",
       "      <th>airline_name</th>\n",
       "      <th></th>\n",
       "    </tr>\n",
       "  </thead>\n",
       "  <tbody>\n",
       "    <tr>\n",
       "      <th>adria-airways</th>\n",
       "      <td>1.000000</td>\n",
       "    </tr>\n",
       "    <tr>\n",
       "      <th>aegean-airlines</th>\n",
       "      <td>-1.000000</td>\n",
       "    </tr>\n",
       "    <tr>\n",
       "      <th>aer-lingus</th>\n",
       "      <td>1.000000</td>\n",
       "    </tr>\n",
       "    <tr>\n",
       "      <th>aeroflot-russian-airlines</th>\n",
       "      <td>0.935442</td>\n",
       "    </tr>\n",
       "    <tr>\n",
       "      <th>aerogal-aerolineas-galapagos</th>\n",
       "      <td>1.000000</td>\n",
       "    </tr>\n",
       "  </tbody>\n",
       "</table>\n",
       "</div>"
      ],
      "text/plain": [
       "                              Correlation\n",
       "airline_name                             \n",
       "adria-airways                    1.000000\n",
       "aegean-airlines                 -1.000000\n",
       "aer-lingus                       1.000000\n",
       "aeroflot-russian-airlines        0.935442\n",
       "aerogal-aerolineas-galapagos     1.000000"
      ]
     },
     "execution_count": 21,
     "metadata": {},
     "output_type": "execute_result"
    }
   ],
   "source": [
    "corr_british=pd.DataFrame(airlines_like_british,columns=['Correlation'])\n",
    "corr_british.dropna(inplace=True)\n",
    "corr_british.head()"
   ]
  },
  {
   "cell_type": "code",
   "execution_count": 22,
   "metadata": {},
   "outputs": [],
   "source": [
    "corr_british=corr_british.join(rating_mean_count['rating_counts'])"
   ]
  },
  {
   "cell_type": "code",
   "execution_count": 23,
   "metadata": {},
   "outputs": [
    {
     "data": {
      "text/html": [
       "<div>\n",
       "<style scoped>\n",
       "    .dataframe tbody tr th:only-of-type {\n",
       "        vertical-align: middle;\n",
       "    }\n",
       "\n",
       "    .dataframe tbody tr th {\n",
       "        vertical-align: top;\n",
       "    }\n",
       "\n",
       "    .dataframe thead th {\n",
       "        text-align: right;\n",
       "    }\n",
       "</style>\n",
       "<table border=\"1\" class=\"dataframe\">\n",
       "  <thead>\n",
       "    <tr style=\"text-align: right;\">\n",
       "      <th></th>\n",
       "      <th>Correlation</th>\n",
       "      <th>rating_counts</th>\n",
       "    </tr>\n",
       "    <tr>\n",
       "      <th>airline_name</th>\n",
       "      <th></th>\n",
       "      <th></th>\n",
       "    </tr>\n",
       "  </thead>\n",
       "  <tbody>\n",
       "    <tr>\n",
       "      <th>adria-airways</th>\n",
       "      <td>1.000000</td>\n",
       "      <td>31</td>\n",
       "    </tr>\n",
       "    <tr>\n",
       "      <th>aegean-airlines</th>\n",
       "      <td>-1.000000</td>\n",
       "      <td>238</td>\n",
       "    </tr>\n",
       "    <tr>\n",
       "      <th>aer-lingus</th>\n",
       "      <td>1.000000</td>\n",
       "      <td>416</td>\n",
       "    </tr>\n",
       "    <tr>\n",
       "      <th>aeroflot-russian-airlines</th>\n",
       "      <td>0.935442</td>\n",
       "      <td>248</td>\n",
       "    </tr>\n",
       "    <tr>\n",
       "      <th>aerogal-aerolineas-galapagos</th>\n",
       "      <td>1.000000</td>\n",
       "      <td>13</td>\n",
       "    </tr>\n",
       "  </tbody>\n",
       "</table>\n",
       "</div>"
      ],
      "text/plain": [
       "                              Correlation  rating_counts\n",
       "airline_name                                            \n",
       "adria-airways                    1.000000             31\n",
       "aegean-airlines                 -1.000000            238\n",
       "aer-lingus                       1.000000            416\n",
       "aeroflot-russian-airlines        0.935442            248\n",
       "aerogal-aerolineas-galapagos     1.000000             13"
      ]
     },
     "execution_count": 23,
     "metadata": {},
     "output_type": "execute_result"
    }
   ],
   "source": [
    "corr_british.head()"
   ]
  },
  {
   "cell_type": "code",
   "execution_count": 24,
   "metadata": {},
   "outputs": [
    {
     "data": {
      "text/plain": [
       "109.74358974358974"
      ]
     },
     "execution_count": 24,
     "metadata": {},
     "output_type": "execute_result"
    }
   ],
   "source": [
    "airline_rating.groupby('airline_name')['overall_rating'].count().sort_values(ascending=False).mean()"
   ]
  },
  {
   "cell_type": "code",
   "execution_count": 25,
   "metadata": {},
   "outputs": [
    {
     "data": {
      "text/html": [
       "<div>\n",
       "<style scoped>\n",
       "    .dataframe tbody tr th:only-of-type {\n",
       "        vertical-align: middle;\n",
       "    }\n",
       "\n",
       "    .dataframe tbody tr th {\n",
       "        vertical-align: top;\n",
       "    }\n",
       "\n",
       "    .dataframe thead th {\n",
       "        text-align: right;\n",
       "    }\n",
       "</style>\n",
       "<table border=\"1\" class=\"dataframe\">\n",
       "  <thead>\n",
       "    <tr style=\"text-align: right;\">\n",
       "      <th></th>\n",
       "      <th>Correlation</th>\n",
       "      <th>rating_counts</th>\n",
       "    </tr>\n",
       "    <tr>\n",
       "      <th>airline_name</th>\n",
       "      <th></th>\n",
       "      <th></th>\n",
       "    </tr>\n",
       "  </thead>\n",
       "  <tbody>\n",
       "    <tr>\n",
       "      <th>british-airways</th>\n",
       "      <td>1.000000</td>\n",
       "      <td>899</td>\n",
       "    </tr>\n",
       "    <tr>\n",
       "      <th>lufthansa</th>\n",
       "      <td>0.964044</td>\n",
       "      <td>600</td>\n",
       "    </tr>\n",
       "    <tr>\n",
       "      <th>ryanair</th>\n",
       "      <td>0.936298</td>\n",
       "      <td>658</td>\n",
       "    </tr>\n",
       "    <tr>\n",
       "      <th>jet-airways</th>\n",
       "      <td>0.878874</td>\n",
       "      <td>595</td>\n",
       "    </tr>\n",
       "    <tr>\n",
       "      <th>air-canada-rouge</th>\n",
       "      <td>0.873304</td>\n",
       "      <td>715</td>\n",
       "    </tr>\n",
       "    <tr>\n",
       "      <th>etihad-airways</th>\n",
       "      <td>0.829646</td>\n",
       "      <td>515</td>\n",
       "    </tr>\n",
       "    <tr>\n",
       "      <th>american-airlines</th>\n",
       "      <td>0.815633</td>\n",
       "      <td>612</td>\n",
       "    </tr>\n",
       "    <tr>\n",
       "      <th>united-airlines</th>\n",
       "      <td>0.585961</td>\n",
       "      <td>839</td>\n",
       "    </tr>\n",
       "    <tr>\n",
       "      <th>qantas-airways</th>\n",
       "      <td>0.332205</td>\n",
       "      <td>580</td>\n",
       "    </tr>\n",
       "    <tr>\n",
       "      <th>emirates</th>\n",
       "      <td>0.203898</td>\n",
       "      <td>691</td>\n",
       "    </tr>\n",
       "  </tbody>\n",
       "</table>\n",
       "</div>"
      ],
      "text/plain": [
       "                   Correlation  rating_counts\n",
       "airline_name                                 \n",
       "british-airways       1.000000            899\n",
       "lufthansa             0.964044            600\n",
       "ryanair               0.936298            658\n",
       "jet-airways           0.878874            595\n",
       "air-canada-rouge      0.873304            715\n",
       "etihad-airways        0.829646            515\n",
       "american-airlines     0.815633            612\n",
       "united-airlines       0.585961            839\n",
       "qantas-airways        0.332205            580\n",
       "emirates              0.203898            691"
      ]
     },
     "execution_count": 25,
     "metadata": {},
     "output_type": "execute_result"
    }
   ],
   "source": [
    "corr_british[corr_british['rating_counts']>500].sort_values('Correlation',ascending=False)"
   ]
  },
  {
   "cell_type": "code",
   "execution_count": null,
   "metadata": {},
   "outputs": [],
   "source": []
  }
 ],
 "metadata": {
  "kernelspec": {
   "display_name": "Python 3",
   "language": "python",
   "name": "python3"
  },
  "language_info": {
   "codemirror_mode": {
    "name": "ipython",
    "version": 3
   },
   "file_extension": ".py",
   "mimetype": "text/x-python",
   "name": "python",
   "nbconvert_exporter": "python",
   "pygments_lexer": "ipython3",
   "version": "3.6.6"
  }
 },
 "nbformat": 4,
 "nbformat_minor": 2
}
